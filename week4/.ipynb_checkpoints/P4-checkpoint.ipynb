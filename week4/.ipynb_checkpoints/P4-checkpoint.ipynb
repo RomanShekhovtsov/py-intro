{
 "cells": [
  {
   "cell_type": "code",
   "execution_count": 1,
   "metadata": {},
   "outputs": [
    {
     "name": "stdout",
     "output_type": "stream",
     "text": [
      "2\n",
      "0\n",
      "1\n"
     ]
    }
   ],
   "source": [
    "# 4_11 power\n",
    "a = float(input())\n",
    "n = int(input())\n",
    "\n",
    "\n",
    "def power(a, n):\n",
    "    if n == 0:\n",
    "        return 1\n",
    "    else:\n",
    "        return a * power(a, n - 1)\n",
    "\n",
    "print(power(a, n))"
   ]
  },
  {
   "cell_type": "code",
   "execution_count": 17,
   "metadata": {},
   "outputs": [
    {
     "name": "stdout",
     "output_type": "stream",
     "text": [
      "2\n",
      "-3\n",
      "0.125\n"
     ]
    }
   ],
   "source": [
    "# 4_12 negative_power\n",
    "a = float(input())\n",
    "n = int(input())\n",
    "\n",
    "\n",
    "def power(a, n):\n",
    "    if n == 0:\n",
    "        return 1\n",
    "\n",
    "    if a == 0:\n",
    "        return 0\n",
    "\n",
    "    res = 1\n",
    "    i = n\n",
    "    while i != 0:\n",
    "        if n > 0:\n",
    "            res = res * a\n",
    "            i = i - 1\n",
    "        else:\n",
    "            res = 1 / a * res\n",
    "            i = i + 1\n",
    "    return res\n",
    "\n",
    "print(power(a, n))"
   ]
  },
  {
   "cell_type": "code",
   "execution_count": 23,
   "metadata": {},
   "outputs": [
    {
     "name": "stdout",
     "output_type": "stream",
     "text": [
      "0\n",
      "133\n",
      "133\n"
     ]
    }
   ],
   "source": [
    "# 4_13 add_without_add\n",
    "\n",
    "\n",
    "def sum(a, b):\n",
    "    if a == 0:\n",
    "        return b\n",
    "\n",
    "    if b == 0:\n",
    "        return a\n",
    "\n",
    "    return 1 + 1 + sum(a - 1, b - 1)\n",
    "\n",
    "a, b = int(input()), int(input())\n",
    "print(sum(a, b))"
   ]
  },
  {
   "cell_type": "code",
   "execution_count": 27,
   "metadata": {},
   "outputs": [
    {
     "name": "stdout",
     "output_type": "stream",
     "text": [
      "2\n",
      "3\n",
      "8.0\n"
     ]
    }
   ],
   "source": [
    "# 4_14 fast_power\n",
    "a = float(input())\n",
    "n = int(input())\n",
    "\n",
    "\n",
    "def power(a, n):\n",
    "    if n == 0:\n",
    "        return 1\n",
    "\n",
    "    if a == 0:\n",
    "        return 0\n",
    "\n",
    "    if n > 0:\n",
    "        if n % 2 == 0:\n",
    "            return power(a * a, n / 2)\n",
    "        else:\n",
    "            return a * power(a, n - 1)\n",
    "    else:\n",
    "        return 1 / power(a, -n)\n",
    "\n",
    "print(power(a, n))"
   ]
  },
  {
   "cell_type": "code",
   "execution_count": 36,
   "metadata": {},
   "outputs": [
    {
     "name": "stdout",
     "output_type": "stream",
     "text": [
      "10\n",
      "100\n",
      "1 10\n"
     ]
    }
   ],
   "source": [
    "# 4_16 reduce_fraction\n",
    "n, m = int(input()), int(input())\n",
    "\n",
    "\n",
    "def EuclideNOD(n, m):\n",
    "    if n > m:\n",
    "        max = n\n",
    "        min = m\n",
    "    else:\n",
    "        max = m\n",
    "        min = n\n",
    "\n",
    "    if max % min == 0:\n",
    "        return min\n",
    "    else:\n",
    "        return EuclideNOD(max % min, min)\n",
    "\n",
    "\n",
    "def ReduceFraction(n, m):\n",
    "    nod = EuclideNOD(n, m)\n",
    "    return n / nod, m / nod\n",
    "\n",
    "p, q = ReduceFraction(n, m)\n",
    "print(int(p), int(q))"
   ]
  },
  {
   "cell_type": "code",
   "execution_count": 44,
   "metadata": {},
   "outputs": [
    {
     "name": "stdout",
     "output_type": "stream",
     "text": [
      "1\n",
      "7\n",
      "9\n",
      "0\n",
      "17\n"
     ]
    }
   ],
   "source": [
    "# 4_19 sum_of_sequence\n",
    "\n",
    "\n",
    "def sum(s):\n",
    "    n = int(input())\n",
    "    if n == 0:\n",
    "        return s\n",
    "    else:\n",
    "        return n + sum(s)\n",
    "\n",
    "print(sum(0))"
   ]
  },
  {
   "cell_type": "code",
   "execution_count": 42,
   "metadata": {},
   "outputs": [
    {
     "name": "stdout",
     "output_type": "stream",
     "text": [
      "1\n",
      "2\n",
      "3\n",
      "0\n",
      "0\n",
      "3\n",
      "2\n",
      "1\n"
     ]
    }
   ],
   "source": [
    "# 4_20 reverse_of_sequence\n",
    "\n",
    "\n",
    "def reverse():\n",
    "    n = int(input())\n",
    "    if n == 0:\n",
    "        print(n)\n",
    "    else:\n",
    "        reverse()\n",
    "        print(n)\n",
    "\n",
    "reverse()"
   ]
  }
 ],
 "metadata": {
  "kernelspec": {
   "display_name": "Python 3",
   "language": "python",
   "name": "python3"
  },
  "language_info": {
   "codemirror_mode": {
    "name": "ipython",
    "version": 3
   },
   "file_extension": ".py",
   "mimetype": "text/x-python",
   "name": "python",
   "nbconvert_exporter": "python",
   "pygments_lexer": "ipython3",
   "version": "3.6.5"
  }
 },
 "nbformat": 4,
 "nbformat_minor": 2
}
