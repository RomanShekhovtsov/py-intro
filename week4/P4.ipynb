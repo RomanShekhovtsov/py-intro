{
 "cells": [
  {
   "cell_type": "code",
   "execution_count": 0,
   "metadata": {
    "colab": {},
    "colab_type": "code",
    "id": "DAeObJxG8NDP"
   },
   "outputs": [],
   "source": [
    "# 4_01 min_of_four\n",
    "a = int(input())\n",
    "b = int(input())\n",
    "c = int(input())\n",
    "d = int(input())\n",
    "print(min(min(a, b), min(c, d)))"
   ]
  },
  {
   "cell_type": "code",
   "execution_count": 0,
   "metadata": {
    "colab": {},
    "colab_type": "code",
    "id": "EPe3ji568Ux9"
   },
   "outputs": [],
   "source": [
    "# 4_04 is_point_in_square\n",
    "x = float(input())\n",
    "y = float(input())\n",
    "\n",
    "\n",
    "def IsPointInSquare(x, y):\n",
    "    return -1 <= x <= 1 and -1 <= y <= 1\n",
    "\n",
    "if IsPointInSquare(x, y):\n",
    "    print('YES')\n",
    "else:\n",
    "    print('NO')"
   ]
  },
  {
   "cell_type": "code",
   "execution_count": 0,
   "metadata": {
    "colab": {},
    "colab_type": "code",
    "id": "pMq1re9V8Wud"
   },
   "outputs": [],
   "source": [
    "# 4_06 is_point_in_circle\n",
    "import math\n",
    "x = float(input())\n",
    "y = float(input())\n",
    "xc = float(input())\n",
    "yc = float(input())\n",
    "r = float(input())\n",
    "\n",
    "\n",
    "def IsPointInCircle(x, y, xc, yc, r):\n",
    "    return math.sqrt((x - xc) ** 2 + (y - yc) ** 2) <= r\n",
    "\n",
    "if IsPointInCircle(x, y, xc, yc, r):\n",
    "    print('YES')\n",
    "else:\n",
    "    print('NO')"
   ]
  },
  {
   "cell_type": "code",
   "execution_count": 0,
   "metadata": {
    "colab": {},
    "colab_type": "code",
    "id": "YA8AzrGj8Yy9"
   },
   "outputs": [],
   "source": [
    "# 4_09 min_divisor\n",
    "import math\n",
    "n = int(input())\n",
    "\n",
    "\n",
    "def MinDivisor(n):\n",
    "    q = math.floor(math.sqrt(n))\n",
    "    i = 2\n",
    "    while i <= q:\n",
    "        if n // i == n / i:\n",
    "            return i\n",
    "        i = i + 1\n",
    "    return n\n",
    "\n",
    "print(MinDivisor(n))"
   ]
  },
  {
   "cell_type": "code",
   "execution_count": 8,
   "metadata": {
    "colab": {
     "base_uri": "https://localhost:8080/",
     "height": 51
    },
    "colab_type": "code",
    "executionInfo": {
     "elapsed": 2424,
     "status": "ok",
     "timestamp": 1534192228815,
     "user": {
      "displayName": "Роман Ш.",
      "photoUrl": "https://lh3.googleusercontent.com/a/default-user=s128",
      "userId": "109532551702164265060"
     },
     "user_tz": -180
    },
    "id": "8lPJrL068buU",
    "outputId": "9c0a43b8-02d4-4b1d-9df5-bc9b20927cac"
   },
   "outputs": [
    {
     "name": "stdout",
     "output_type": "stream",
     "text": [
      "4\n",
      "NO\n"
     ]
    }
   ],
   "source": [
    "# 4_10 is_prime\n",
    "import math\n",
    "n = int(input())\n",
    "\n",
    "\n",
    "def IsPrime(n):\n",
    "    q = math.sqrt(n)\n",
    "    i = 2\n",
    "    while i <= q:\n",
    "        if n // i == n / i:\n",
    "            return False\n",
    "        i = i + 1\n",
    "    return True\n",
    "\n",
    "if IsPrime(n):\n",
    "    print(\"YES\")\n",
    "else:\n",
    "    print(\"NO\")"
   ]
  },
  {
   "cell_type": "code",
   "execution_count": 15,
   "metadata": {
    "colab": {
     "base_uri": "https://localhost:8080/",
     "height": 68
    },
    "colab_type": "code",
    "executionInfo": {
     "elapsed": 2538,
     "status": "ok",
     "timestamp": 1534193007138,
     "user": {
      "displayName": "Роман Ш.",
      "photoUrl": "https://lh3.googleusercontent.com/a/default-user=s128",
      "userId": "109532551702164265060"
     },
     "user_tz": -180
    },
    "id": "3pRcR4y8BGo8",
    "outputId": "d3901247-89a6-49c2-b0c5-c6be832828f4"
   },
   "outputs": [
    {
     "name": "stdout",
     "output_type": "stream",
     "text": [
      "2\n",
      "1\n",
      "2.0\n"
     ]
    }
   ],
   "source": [
    "# 4_11 power\n",
    "a = float(input())\n",
    "n = int(input())\n",
    "\n",
    "\n",
    "def power(a, n):\n",
    "    if n == 0:\n",
    "        return 1\n",
    "    else:\n",
    "        return a * power(a, n - 1)\n",
    "\n",
    "print(power(a, n))"
   ]
  },
  {
   "cell_type": "code",
   "execution_count": null,
   "metadata": {},
   "outputs": [],
   "source": [
    "# 4_12 negative_power\n",
    "a = float(input())\n",
    "n = int(input())\n",
    "\n",
    "\n",
    "def power(a, n):\n",
    "    if n == 0:\n",
    "        return 1\n",
    "\n",
    "    if a == 0:\n",
    "        return 0\n",
    "\n",
    "    res = 1\n",
    "    i = n\n",
    "    while i != 0:\n",
    "        if n > 0:\n",
    "            res = res * a\n",
    "            i = i - 1\n",
    "        else:\n",
    "            res = 1 / a * res\n",
    "            i = i + 1\n",
    "    return res\n",
    "\n",
    "print(power(a, n))"
   ]
  },
  {
   "cell_type": "code",
   "execution_count": null,
   "metadata": {},
   "outputs": [],
   "source": [
    "# 4_13 add_without_add\n",
    "\n",
    "\n",
    "def sum(a, b):\n",
    "    if a == 0:\n",
    "        return b\n",
    "\n",
    "    if b == 0:\n",
    "        return a\n",
    "\n",
    "    return 1 + 1 + sum(a - 1, b - 1)\n",
    "\n",
    "a, b = int(input()), int(input())\n",
    "print(sum(a, b))"
   ]
  },
  {
   "cell_type": "code",
   "execution_count": null,
   "metadata": {},
   "outputs": [],
   "source": [
    "# 4_14 fast_power\n",
    "a = float(input())\n",
    "n = int(input())\n",
    "\n",
    "\n",
    "def power(a, n):\n",
    "    if n == 0:\n",
    "        return 1\n",
    "\n",
    "    if a == 0:\n",
    "        return 0\n",
    "\n",
    "    if n > 0:\n",
    "        if n % 2 == 0:\n",
    "            return power(a * a, n / 2)\n",
    "        else:\n",
    "            return a * power(a, n - 1)\n",
    "    else:\n",
    "        return 1 / power(a, -n)\n",
    "\n",
    "print(power(a, n))"
   ]
  },
  {
   "cell_type": "code",
   "execution_count": null,
   "metadata": {},
   "outputs": [],
   "source": [
    "# 4_16 reduce_fraction\n",
    "n, m = int(input()), int(input())\n",
    "\n",
    "\n",
    "def EuclideNOD(n, m):\n",
    "    if n > m:\n",
    "        max = n\n",
    "        min = m\n",
    "    else:\n",
    "        max = m\n",
    "        min = n\n",
    "\n",
    "    if max % min == 0:\n",
    "        return min\n",
    "    else:\n",
    "        return EuclideNOD(max % min, min)\n",
    "\n",
    "\n",
    "def ReduceFraction(n, m):\n",
    "    nod = EuclideNOD(n, m)\n",
    "    return n / nod, m / nod\n",
    "\n",
    "p, q = ReduceFraction(n, m)\n",
    "print(int(p), int(q))"
   ]
  },
  {
   "cell_type": "code",
   "execution_count": null,
   "metadata": {},
   "outputs": [],
   "source": [
    "# 4_19 sum_of_sequence\n",
    "\n",
    "\n",
    "def sum(s):\n",
    "    n = int(input())\n",
    "    if n == 0:\n",
    "        return s\n",
    "    else:\n",
    "        return n + sum(s)\n",
    "\n",
    "print(sum(0))"
   ]
  },
  {
   "cell_type": "code",
   "execution_count": null,
   "metadata": {},
   "outputs": [],
   "source": [
    "# 4_20 reverse_of_sequence\n",
    "\n",
    "\n",
    "def reverse():\n",
    "    n = int(input())\n",
    "    if n == 0:\n",
    "        print(n)\n",
    "    else:\n",
    "        reverse()\n",
    "        print(n)\n",
    "\n",
    "reverse()"
   ]
  }
 ],
 "metadata": {
  "colab": {
   "name": "P4.ipynb",
   "provenance": [],
   "version": "0.3.2"
  },
  "kernelspec": {
   "display_name": "Python 3",
   "language": "python",
   "name": "python3"
  },
  "language_info": {
   "codemirror_mode": {
    "name": "ipython",
    "version": 3
   },
   "file_extension": ".py",
   "mimetype": "text/x-python",
   "name": "python",
   "nbconvert_exporter": "python",
   "pygments_lexer": "ipython3",
   "version": "3.6.5"
  }
 },
 "nbformat": 4,
 "nbformat_minor": 1
}
