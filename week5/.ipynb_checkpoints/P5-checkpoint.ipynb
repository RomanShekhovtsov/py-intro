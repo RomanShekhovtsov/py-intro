{
 "cells": [
  {
   "cell_type": "code",
   "execution_count": 7,
   "metadata": {},
   "outputs": [
    {
     "name": "stdout",
     "output_type": "stream",
     "text": [
      "0\n",
      "0\n",
      "0 "
     ]
    }
   ],
   "source": [
    "# 5_01 range_1\n",
    "a = int(input())\n",
    "b = int(input())\n",
    "\n",
    "for n in range(a, b + 1):\n",
    "    print(n, end=' ')"
   ]
  },
  {
   "cell_type": "code",
   "execution_count": 12,
   "metadata": {},
   "outputs": [
    {
     "name": "stdout",
     "output_type": "stream",
     "text": [
      "179\n",
      "179\n",
      "179 "
     ]
    }
   ],
   "source": [
    "# 5_02 range_2\n",
    "a = int(input())\n",
    "b = int(input())\n",
    "\n",
    "step = 1\n",
    "if a > b:\n",
    "    step = -1\n",
    "\n",
    "for n in range(a, b + step, step):\n",
    "    print(n, end=' ')"
   ]
  },
  {
   "cell_type": "code",
   "execution_count": 20,
   "metadata": {},
   "outputs": [
    {
     "name": "stdout",
     "output_type": "stream",
     "text": [
      "2\n",
      "99 97 95 93 91 89 87 85 83 81 79 77 75 73 71 69 67 65 63 61 59 57 55 53 51 49 47 45 43 41 39 37 35 33 31 29 27 25 23 21 19 17 15 13 11 "
     ]
    }
   ],
   "source": [
    "# 5_03 range_3\n",
    "n = int(input())\n",
    "\n",
    "for i in range(10 ** n - 1, 10 ** (n - 1) - 1, -2):\n",
    "    print(i, end=' ')"
   ]
  },
  {
   "cell_type": "code",
   "execution_count": 26,
   "metadata": {},
   "outputs": [
    {
     "name": "stdout",
     "output_type": "stream",
     "text": [
      "3\n",
      "+___ +___ +___ \n",
      "|1 / |2 / |3 / \n",
      "|__\\ |__\\ |__\\ \n",
      "|    |    |    \n"
     ]
    }
   ],
   "source": [
    "# 5_05 flags\n",
    "n = int(input())\n",
    "flag = (\n",
    "    '+___ ',\n",
    "    '|X / ',\n",
    "    '|__\\ ',\n",
    "    '|    ')\n",
    "\n",
    "for s in flag:\n",
    "    for i in range(n):\n",
    "        if s == flag[1]:\n",
    "            print(s[0], i + 1, s[2:], sep='', end='')\n",
    "        else:\n",
    "            print(s, end='')\n",
    "    print()"
   ]
  },
  {
   "cell_type": "code",
   "execution_count": 31,
   "metadata": {},
   "outputs": [
    {
     "name": "stdout",
     "output_type": "stream",
     "text": [
      "4\n",
      "1\n",
      "12\n",
      "123\n",
      "1234\n"
     ]
    }
   ],
   "source": [
    "# 5_07 stairs\n",
    "n = int(input())\n",
    "\n",
    "for i in range(1, n + 1):\n",
    "    for j in range(1, i + 1):\n",
    "        print(j, sep='', end='')\n",
    "    print()"
   ]
  },
  {
   "cell_type": "code",
   "execution_count": 39,
   "metadata": {},
   "outputs": [
    {
     "name": "stdout",
     "output_type": "stream",
     "text": [
      "1 2\n",
      "1\n"
     ]
    }
   ],
   "source": [
    "# 5_13 even_indicies\n",
    "l = input().split()\n",
    "even = map(str, l[::2])\n",
    "print(' '.join(even))"
   ]
  },
  {
   "cell_type": "code",
   "execution_count": 54,
   "metadata": {},
   "outputs": [
    {
     "name": "stdout",
     "output_type": "stream",
     "text": [
      "23 354 5 5 4  \n",
      "354 4\n"
     ]
    }
   ],
   "source": [
    "# 5_14 even_elements\n",
    "l = map(int, input().split())\n",
    "\n",
    "res = []\n",
    "for i in l:\n",
    "    if i % 2 == 0:\n",
    "        res = res + list((i, ))\n",
    "\n",
    "print(' '.join(map(str, res)))"
   ]
  },
  {
   "cell_type": "code",
   "execution_count": 57,
   "metadata": {},
   "outputs": [
    {
     "name": "stdout",
     "output_type": "stream",
     "text": [
      "9 3 4 1 2\n",
      "5\n"
     ]
    }
   ],
   "source": [
    "# 5_15 count_of_positive\n",
    "l = map(int, input().split())\n",
    "\n",
    "count = 0\n",
    "for i in l:\n",
    "    if i > 0:\n",
    "        count = count + 1\n",
    "\n",
    "print(count)"
   ]
  },
  {
   "cell_type": "code",
   "execution_count": 16,
   "metadata": {},
   "outputs": [
    {
     "name": "stdout",
     "output_type": "stream",
     "text": [
      "5 4 3 2 1\n",
      "5 0\n"
     ]
    }
   ],
   "source": [
    "# 5_16 last_max\n",
    "l = map(int, input().split())\n",
    "\n",
    "m = None\n",
    "ind = 0\n",
    "i = 0\n",
    "for n in l:\n",
    "    if m is None:\n",
    "        m = n\n",
    "\n",
    "    if n >= m:\n",
    "        m = n\n",
    "        ind = i\n",
    "    i = i + 1\n",
    "\n",
    "print(m, ind)"
   ]
  },
  {
   "cell_type": "code",
   "execution_count": 15,
   "metadata": {},
   "outputs": [
    {
     "name": "stdout",
     "output_type": "stream",
     "text": [
      "5 5 5 5 5 \n",
      "\n"
     ]
    }
   ],
   "source": [
    "# 5_17 more_than_prev\n",
    "l = map(int, input().split())\n",
    "\n",
    "prev = None\n",
    "for n in l:\n",
    "    if prev is None:\n",
    "        prev = n\n",
    "\n",
    "    if n > prev:\n",
    "        print(n, end=' ')\n",
    "    prev = n\n",
    "print()"
   ]
  },
  {
   "cell_type": "code",
   "execution_count": 21,
   "metadata": {},
   "outputs": [
    {
     "name": "stdout",
     "output_type": "stream",
     "text": [
      "-1 -2 -3 -4 100\n",
      "100\n"
     ]
    }
   ],
   "source": [
    "# 5_22 smallest_positive\n",
    "l = map(int, input().split())\n",
    "\n",
    "m = None\n",
    "for n in l:\n",
    "    if n > 0:\n",
    "        if m is None:\n",
    "            m = n\n",
    "\n",
    "        if n < m:\n",
    "            m = n\n",
    "\n",
    "print(m)"
   ]
  },
  {
   "cell_type": "code",
   "execution_count": 16,
   "metadata": {},
   "outputs": [
    {
     "name": "stdout",
     "output_type": "stream",
     "text": [
      "2\n",
      "-1000 0\n",
      "1000\n",
      "0\n"
     ]
    }
   ],
   "source": [
    "# 5_26 nearest_number\n",
    "n = int(input())\n",
    "lst = map(int, input().split())\n",
    "x = int(input())\n",
    "\n",
    "nearest = 9999\n",
    "for m in lst:\n",
    "    if abs(nearest - x) > abs(m - x):\n",
    "        nearest = m\n",
    "\n",
    "print(nearest)"
   ]
  },
  {
   "cell_type": "code",
   "execution_count": 27,
   "metadata": {},
   "outputs": [
    {
     "name": "stdout",
     "output_type": "stream",
     "text": [
      "9 4 5 2 3\n",
      "4 9 2 5 3\n"
     ]
    }
   ],
   "source": [
    "# 5_29 swap_neighbors\n",
    "lst = input().split()\n",
    "\n",
    "res = []\n",
    "len_lst = len(lst)\n",
    "i = 0\n",
    "while i < len_lst - 1:\n",
    "    res.extend([lst[i + 1], lst[i]])\n",
    "    i = i + 2\n",
    "\n",
    "if len_lst % 2 == 1:\n",
    "    res.append(lst[len_lst - 1])\n",
    "\n",
    "print(' '.join(res))"
   ]
  },
  {
   "cell_type": "code",
   "execution_count": 42,
   "metadata": {},
   "outputs": [
    {
     "name": "stdout",
     "output_type": "stream",
     "text": [
      "30000 -30000\n",
      "1\n",
      "-30000 30000\n"
     ]
    }
   ],
   "source": [
    "# 5_31 swap_min_and_max\n",
    "lst = list(map(int, input().split()))\n",
    "\n",
    "min_ = lst[0]\n",
    "max_ = lst[0]\n",
    "min_i = 0\n",
    "max_i = 0\n",
    "\n",
    "i = 1\n",
    "while i < len(lst):\n",
    "    if min_ > lst[i]:\n",
    "        min_ = lst[i]\n",
    "        min_i = i\n",
    "    if max_ < lst[i]:\n",
    "        max_ = lst[i]\n",
    "        max_i = i\n",
    "    i = i + 1\n",
    "\n",
    "lst[min_i] = max_\n",
    "lst[max_i] = min_\n",
    "print(' '.join(map(str, lst)))"
   ]
  },
  {
   "cell_type": "code",
   "execution_count": 68,
   "metadata": {},
   "outputs": [
    {
     "name": "stdout",
     "output_type": "stream",
     "text": [
      "1 5 7\n",
      "2 2 4 4 5\n",
      "1 2 2 4 4 5 5 7\n"
     ]
    }
   ],
   "source": [
    "# 5_39 join_lists\n",
    "a = list(map(int, input().split()))\n",
    "b = list(map(int, input().split()))\n",
    "\n",
    "\n",
    "def merge(a, b):\n",
    "    c = []\n",
    "    a_i = 0\n",
    "    b_i = 0\n",
    "\n",
    "    while a_i < len(a):\n",
    "        if b_i == len(b):\n",
    "            c.extend(a[a_i:])\n",
    "            break\n",
    "\n",
    "        if a[a_i] > b[b_i]:\n",
    "            c.append(b[b_i])\n",
    "            b_i = b_i + 1\n",
    "        else:\n",
    "            c.append(a[a_i])\n",
    "            a_i = a_i + 1\n",
    "\n",
    "    if b_i < len(b):\n",
    "        c.extend(b[b_i:])\n",
    "\n",
    "    return c\n",
    "\n",
    "print(\" \".join(str(x) for x in merge(a, b)))"
   ]
  },
  {
   "cell_type": "code",
   "execution_count": 62,
   "metadata": {},
   "outputs": [
    {
     "name": "stdout",
     "output_type": "stream",
     "text": [
      "5\n",
      "5 4 3 2 1\n",
      "1 2 3 4 5\n"
     ]
    }
   ],
   "source": [
    "# 5_41 sort\n",
    "n = int(input())\n",
    "lst = list(map(int, input().split()))\n",
    "lst.sort()\n",
    "print(' '.join(map(str, lst)))"
   ]
  },
  {
   "cell_type": "code",
   "execution_count": 66,
   "metadata": {},
   "outputs": [
    {
     "name": "stdout",
     "output_type": "stream",
     "text": [
      "100 3\n",
      "50\n",
      "30\n",
      "50\n",
      "2\n"
     ]
    }
   ],
   "source": [
    "# 5_43 create_archive\n",
    "lst = list(map(int, input().split()))\n",
    "s, n = lst[0], lst[1]\n",
    "\n",
    "v = []\n",
    "for i in range(n):\n",
    "    v.append(int(input()))\n",
    "v.sort()\n",
    "\n",
    "users = 0\n",
    "space = 0\n",
    "for i in range(n):\n",
    "    space = space + v[i]\n",
    "    if space > s:\n",
    "        break\n",
    "    users = users + 1\n",
    "\n",
    "print(users)"
   ]
  },
  {
   "cell_type": "code",
   "execution_count": 13,
   "metadata": {},
   "outputs": [
    {
     "name": "stdout",
     "output_type": "stream",
     "text": [
      "1\n",
      "1\n",
      "1\n",
      "1\n",
      "1\n"
     ]
    }
   ],
   "source": [
    "# 5_44 civil_defence\n",
    "n = int(input())\n",
    "nn = list(map(int, input().split()))\n",
    "m = int(input())\n",
    "mm = list(map(int, input().split()))\n",
    "\n",
    "towns = []\n",
    "nearests = []\n",
    "for i in range(n):\n",
    "    towns.append((nn[i], i))\n",
    "    nearests.append(0)\n",
    "\n",
    "vaults = []\n",
    "for i in range(m):\n",
    "    vaults.append((mm[i], i))\n",
    "\n",
    "towns.sort()\n",
    "vaults.sort()\n",
    "\n",
    "vault_nearest = 0\n",
    "for town in towns:\n",
    "    vault_i = vault_nearest\n",
    "    while vault_i < len(vaults) - 1:\n",
    "        dist_prev = abs( town[0] - vaults[vault_i][0])\n",
    "        dist_next = abs( town[0] - vaults[vault_i + 1][0])\n",
    "        if dist_prev < dist_next:\n",
    "            vault_nearest = vault_i\n",
    "            break\n",
    "        vault_i = vault_i + 1\n",
    "        if vault_i == len(vaults) - 1:\n",
    "            vault_nearest = vault_i\n",
    "    nearests[town[1]] = vaults[vault_nearest][1] + 1\n",
    "\n",
    "print(' '.join(map(str,nearests)))"
   ]
  }
 ],
 "metadata": {
  "kernelspec": {
   "display_name": "Python 3",
   "language": "python",
   "name": "python3"
  },
  "language_info": {
   "codemirror_mode": {
    "name": "ipython",
    "version": 3
   },
   "file_extension": ".py",
   "mimetype": "text/x-python",
   "name": "python",
   "nbconvert_exporter": "python",
   "pygments_lexer": "ipython3",
   "version": "3.6.5"
  }
 },
 "nbformat": 4,
 "nbformat_minor": 2
}
