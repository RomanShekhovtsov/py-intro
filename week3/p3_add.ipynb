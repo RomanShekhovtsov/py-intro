{
 "cells": [
  {
   "cell_type": "code",
   "execution_count": 7,
   "metadata": {},
   "outputs": [
    {
     "name": "stdout",
     "output_type": "stream",
     "text": [
      "3.50\n",
      "3 50\n"
     ]
    }
   ],
   "source": [
    "# 3_4 price of good\n",
    "p = float(input())\n",
    "r = int(p)\n",
    "k = int(round((p - r) * 100, 0))\n",
    "print(r, k)"
   ]
  },
  {
   "cell_type": "code",
   "execution_count": 19,
   "metadata": {},
   "outputs": [
    {
     "name": "stdout",
     "output_type": "stream",
     "text": [
      "2.7\n",
      "3\n"
     ]
    }
   ],
   "source": [
    "# 3_5 round by russian rules\n",
    "n = float(input())\n",
    "print(int(n * 2 + 1) // 2)"
   ]
  },
  {
   "cell_type": "code",
   "execution_count": 32,
   "metadata": {},
   "outputs": [
    {
     "name": "stdout",
     "output_type": "stream",
     "text": [
      "10\n",
      "100\n",
      "0\n",
      "110 0\n"
     ]
    }
   ],
   "source": [
    "# 3_6 percents\n",
    "p = int(input())\n",
    "x = int(input())\n",
    "y = int(input())\n",
    "s = float(x * 100  + y) # сумма вклада в копейках\n",
    "s2 =  s * (100 + p) / 100\n",
    "print(int(s2 // 100), int(s2 % 100))"
   ]
  }
 ],
 "metadata": {
  "kernelspec": {
   "display_name": "Python 3",
   "language": "python",
   "name": "python3"
  },
  "language_info": {
   "codemirror_mode": {
    "name": "ipython",
    "version": 3
   },
   "file_extension": ".py",
   "mimetype": "text/x-python",
   "name": "python",
   "nbconvert_exporter": "python",
   "pygments_lexer": "ipython3",
   "version": "3.6.5"
  }
 },
 "nbformat": 4,
 "nbformat_minor": 2
}
