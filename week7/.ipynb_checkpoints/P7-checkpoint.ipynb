{
 "cells": [
  {
   "cell_type": "code",
   "execution_count": 6,
   "metadata": {},
   "outputs": [
    {
     "name": "stdout",
     "output_type": "stream",
     "text": [
      "1 2 3 3 4\n",
      "4\n"
     ]
    }
   ],
   "source": [
    "# 7_01 count_of_numbers\n",
    "tests = [1, 2, 3]\n",
    "\n",
    "\n",
    "def read_file(filename):\n",
    "    inf = open(filename, 'r', encoding='utf-8')\n",
    "    s = inf.read()\n",
    "    inf.close()\n",
    "    return s\n",
    "\n",
    "# for t in tests:\n",
    "#    lst = read_file('tests/7_01_' + str(t) + '.txt').split()\n",
    "#    print(len(set(lst)))\n",
    "lst = input().split()\n",
    "print(len(set(lst)))"
   ]
  },
  {
   "cell_type": "code",
   "execution_count": 2,
   "metadata": {},
   "outputs": [
    {
     "name": "stdout",
     "output_type": "stream",
     "text": [
      "1\n",
      "2\n",
      "\n"
     ]
    }
   ],
   "source": [
    "# 7_03 intersection\n",
    "tests = [1, 2]\n",
    "\n",
    "\n",
    "def read_file(filename):\n",
    "    inf = open(filename, 'r', encoding='utf-8')\n",
    "    s = inf.read()\n",
    "    inf.close()\n",
    "    return s\n",
    "\n",
    "\n",
    "def print_list(A, sep=' '):\n",
    "    for x in A:\n",
    "        print(x, end=sep)\n",
    "    print()\n",
    "\n",
    "# for t in tests:\n",
    "#    lst = read_file('tests/7_02_' + str(t) + '.txt').split('\\n')\n",
    "#    a = set(lst[0].split())\n",
    "#    b = set(lst[1].split())\n",
    "#    print(a & b)\n",
    "\n",
    "a = set(map(int, input().split()))\n",
    "b = set(map(int, input().split()))\n",
    "print_list(sorted(a & b))"
   ]
  },
  {
   "cell_type": "code",
   "execution_count": 16,
   "metadata": {},
   "outputs": [
    {
     "name": "stdout",
     "output_type": "stream",
     "text": [
      "1 2 3 2 3 4\n",
      "NO\n",
      "NO\n",
      "NO\n",
      "YES\n",
      "YES\n",
      "NO\n"
     ]
    }
   ],
   "source": [
    "# 7_04 meet_before\n",
    "lst = map(int, input().split())\n",
    "s = set()\n",
    "\n",
    "for n in lst:\n",
    "    if n in s:\n",
    "        print('YES')\n",
    "    else:\n",
    "        print('NO')\n",
    "        s.add(n)"
   ]
  },
  {
   "cell_type": "code",
   "execution_count": 19,
   "metadata": {},
   "outputs": [
    {
     "name": "stdout",
     "output_type": "stream",
     "text": [
      "19\n"
     ]
    }
   ],
   "source": [
    "# 7_06 words_count\n",
    "fname = 'input.txt'\n",
    "\n",
    "\n",
    "def read_file(filename):\n",
    "    inf = open(filename, 'r', encoding='utf-8')\n",
    "    s = inf.read()\n",
    "    inf.close()\n",
    "    return s\n",
    "\n",
    "lst = read_file(fname).split()\n",
    "print(len(set(lst)))"
   ]
  },
  {
   "cell_type": "code",
   "execution_count": 4,
   "metadata": {},
   "outputs": [
    {
     "name": "stdout",
     "output_type": "stream",
     "text": [
      "23 81 83\n"
     ]
    }
   ],
   "source": [
    "# 7_07 guess_the_number\n",
    "DEBUG = False\n",
    "\n",
    "\n",
    "def read_line(f):\n",
    "    if f is None:\n",
    "        s = input()\n",
    "    else:\n",
    "        s = f.readline()\n",
    "    return s.strip()\n",
    "\n",
    "if DEBUG:\n",
    "    f = open('tests/7_07_4.txt', 'r', encoding='utf-8')\n",
    "else:\n",
    "    f = None\n",
    "\n",
    "n = int(read_line(f))\n",
    "may_be = set(range(1, n + 1))\n",
    "\n",
    "lst = []\n",
    "s = ''\n",
    "while s != 'HELP':\n",
    "    s = read_line(f)\n",
    "    lst.append(s)\n",
    "\n",
    "for i in range(0, len(lst) - 1, 2):\n",
    "        nums = set(map(int, lst[i].split()))\n",
    "        if lst[i + 1] == 'YES':\n",
    "            may_be &= nums\n",
    "        else:\n",
    "            may_be -= nums\n",
    "\n",
    "if DEBUG:\n",
    "    f.close()\n",
    "\n",
    "print(*sorted(may_be))"
   ]
  },
  {
   "cell_type": "code",
   "execution_count": 7,
   "metadata": {},
   "outputs": [
    {
     "name": "stdout",
     "output_type": "stream",
     "text": [
      "3\n",
      "3\n",
      "R\n",
      "E\n",
      "J\n",
      "2\n",
      "R\n",
      "E\n",
      "1\n",
      "E\n"
     ]
    },
    {
     "ename": "AttributeError",
     "evalue": "'NoneType' object has no attribute 'close'",
     "output_type": "error",
     "traceback": [
      "\u001b[1;31m---------------------------------------------------------------------------\u001b[0m",
      "\u001b[1;31mAttributeError\u001b[0m                            Traceback (most recent call last)",
      "\u001b[1;32m<ipython-input-7-3b0c6ae481ff>\u001b[0m in \u001b[0;36m<module>\u001b[1;34m()\u001b[0m\n\u001b[0;32m     45\u001b[0m     \u001b[0mall_langs\u001b[0m \u001b[1;33m|=\u001b[0m \u001b[0mlangs\u001b[0m\u001b[1;33m\u001b[0m\u001b[0m\n\u001b[0;32m     46\u001b[0m \u001b[1;33m\u001b[0m\u001b[0m\n\u001b[1;32m---> 47\u001b[1;33m \u001b[0mf\u001b[0m\u001b[1;33m.\u001b[0m\u001b[0mclose\u001b[0m\u001b[1;33m(\u001b[0m\u001b[1;33m)\u001b[0m\u001b[1;33m\u001b[0m\u001b[0m\n\u001b[0m\u001b[0;32m     48\u001b[0m \u001b[1;33m\u001b[0m\u001b[0m\n\u001b[0;32m     49\u001b[0m \u001b[0mprint\u001b[0m\u001b[1;33m(\u001b[0m\u001b[0mlen\u001b[0m\u001b[1;33m(\u001b[0m\u001b[0mknow_all\u001b[0m\u001b[1;33m)\u001b[0m\u001b[1;33m)\u001b[0m\u001b[1;33m\u001b[0m\u001b[0m\n",
      "\u001b[1;31mAttributeError\u001b[0m: 'NoneType' object has no attribute 'close'"
     ]
    }
   ],
   "source": [
    "# 7_09 polyglots\n",
    "DEBUG = False\n",
    "tests = [1]\n",
    "\n",
    "\n",
    "def read_file(filename):\n",
    "    f = open(filename, 'r', encoding='utf-8')\n",
    "    s = f.read()\n",
    "    f.close()\n",
    "    return s\n",
    "\n",
    "\n",
    "def print_list(A, sep=' ', end='\\n'):\n",
    "    for x in A:\n",
    "        print(x, end=sep)\n",
    "    print(end, end='')\n",
    "\n",
    "\n",
    "def read_line(f):\n",
    "    if f is None:\n",
    "        s = input()\n",
    "    else:\n",
    "        s = f.readline()\n",
    "    return s.strip()\n",
    "\n",
    "if DEBUG:\n",
    "    f = open('tests/7_09_1.txt', 'r', encoding='utf-8')\n",
    "else:\n",
    "    f = None\n",
    "\n",
    "know_all = None\n",
    "all_langs = set()\n",
    "\n",
    "n = int(read_line(f))\n",
    "for i in range(n):\n",
    "    m = int(read_line(f))\n",
    "    langs = set()\n",
    "    for j in range(m):\n",
    "        langs.add(read_line(f))\n",
    "\n",
    "    if know_all is None:\n",
    "        know_all = langs\n",
    "    else:\n",
    "        know_all &= langs\n",
    "    all_langs |= langs\n",
    "\n",
    "if DEBUG:\n",
    "    f.close()\n",
    "\n",
    "print(len(know_all))\n",
    "print_list(know_all, '\\n', end='')\n",
    "print(len(all_langs))\n",
    "print_list(all_langs, '\\n')"
   ]
  },
  {
   "cell_type": "code",
   "execution_count": 16,
   "metadata": {},
   "outputs": [
    {
     "name": "stdout",
     "output_type": "stream",
     "text": [
      "0 0 1 0 0 \n",
      "0 0 0 0 0 0 1 0 0 1 0 0 1 0 2 2 0 0 0 0 1 2 3 3 1 1 4 0 1 0 1 2 4 1 5 0 0 \n",
      "0 0 1 0 \n"
     ]
    }
   ],
   "source": [
    "# 7_14 number_of_word\n",
    "DEBUG = False\n",
    "tests = [1, 2, 3]\n",
    "\n",
    "\n",
    "def read_file(filename):\n",
    "    f = open(filename, 'r', encoding='utf-8')\n",
    "    s = f.read()\n",
    "    f.close()\n",
    "    return s.strip()\n",
    "\n",
    "\n",
    "def number_of_word(s):\n",
    "    lst = s.split()\n",
    "    dic = {}\n",
    "    for w in lst:\n",
    "        print(dic.get(w, 0), end=' ')\n",
    "        dic[w] = dic.get(w, 0) + 1\n",
    "\n",
    "if DEBUG:\n",
    "    for t in tests:\n",
    "        s = read_file('tests/7_14_' + str(t) + '.txt')\n",
    "        number_of_word(s)\n",
    "        print()\n",
    "else:\n",
    "    s = read_file('input.txt')\n",
    "    number_of_word(s)"
   ]
  },
  {
   "cell_type": "code",
   "execution_count": 24,
   "metadata": {},
   "outputs": [
    {
     "name": "stdout",
     "output_type": "stream",
     "text": [
      "Bye\n"
     ]
    }
   ],
   "source": [
    "# 7_15 synonyms\n",
    "DEBUG = False\n",
    "tests = [1, 2, 3]\n",
    "\n",
    "\n",
    "def read_file(filename):\n",
    "    f = open(filename, 'r', encoding='utf-8')\n",
    "    s = f.read()\n",
    "    f.close()\n",
    "    return s.strip()\n",
    "\n",
    "\n",
    "def synonyms(s):\n",
    "    lst = s.split('\\n')\n",
    "    dic = {}\n",
    "    n = int(lst[0])\n",
    "    for s in lst[1:-1]:\n",
    "        syns = s.split()\n",
    "        dic[syns[0]] = syns[1]\n",
    "        dic[syns[1]] = syns[0]\n",
    "    print(dic[lst[-1]])\n",
    "\n",
    "if DEBUG:\n",
    "    for t in tests:\n",
    "        s = read_file('tests/7_15_' + str(t) + '.txt')\n",
    "        synonyms(s)\n",
    "else:\n",
    "    s = read_file('input.txt')\n",
    "    synonyms(s)"
   ]
  },
  {
   "cell_type": "code",
   "execution_count": 38,
   "metadata": {},
   "outputs": [
    {
     "name": "stdout",
     "output_type": "stream",
     "text": [
      "a\n"
     ]
    }
   ],
   "source": [
    "# 7_17 most_frequent\n",
    "DEBUG = False\n",
    "tests = [1, 2, 3]\n",
    "\n",
    "\n",
    "def read_file(filename):\n",
    "    f = open(filename, 'r', encoding='utf-8')\n",
    "    s = f.read()\n",
    "    f.close()\n",
    "    return s.strip()\n",
    "\n",
    "\n",
    "def most_frequent(s):\n",
    "    text = s.split()\n",
    "    words = {}\n",
    "    for word in text:\n",
    "        words[word] = words.get(word, 0) + 1\n",
    "    print(sorted(words.items(), key=lambda x: (-x[1], x[0]))[0][0])\n",
    "\n",
    "if DEBUG:\n",
    "    for t in tests:\n",
    "        s = read_file('tests/7_17_' + str(t) + '.txt')\n",
    "        most_frequent(s)\n",
    "else:\n",
    "    s = read_file('input.txt')\n",
    "    most_frequent(s)"
   ]
  },
  {
   "cell_type": "code",
   "execution_count": 42,
   "metadata": {},
   "outputs": [
    {
     "name": "stdout",
     "output_type": "stream",
     "text": [
      "ai\n"
     ]
    }
   ],
   "source": [
    "# 7_18 frequent_analysis\n",
    "DEBUG = False\n",
    "tests = [1, 2, 3]\n",
    "\n",
    "\n",
    "def read_file(filename):\n",
    "    f = open(filename, 'r', encoding='utf-8')\n",
    "    s = f.read()\n",
    "    f.close()\n",
    "    return s.strip()\n",
    "\n",
    "\n",
    "def print_list(A, sep=' ', end='\\n'):\n",
    "    for x in A:\n",
    "        print(x, end=sep)\n",
    "    print(end, end='')\n",
    "\n",
    "\n",
    "def frequent_analysis(s):\n",
    "    text = s.split()\n",
    "    words = {}\n",
    "    for word in text:\n",
    "        words[word] = words.get(word, 0) + 1\n",
    "    for word in sorted(words.items(), key=lambda x: (-x[1], x[0])):\n",
    "        print(word[0])\n",
    "\n",
    "if DEBUG:\n",
    "    for t in tests:\n",
    "        s = read_file('tests/7_18_' + str(t) + '.txt')\n",
    "        frequent_analysis(s)\n",
    "        print()\n",
    "else:\n",
    "    s = read_file('input.txt')\n",
    "    frequent_analysis(s)"
   ]
  },
  {
   "cell_type": "code",
   "execution_count": 50,
   "metadata": {},
   "outputs": [],
   "source": [
    "# 7_19 election\n",
    "DEBUG = False\n",
    "tests = [1, 2]\n",
    "\n",
    "\n",
    "def read_file(filename):\n",
    "    f = open(filename, 'r', encoding='utf-8')\n",
    "    s = f.read()\n",
    "    f.close()\n",
    "    return s.strip()\n",
    "\n",
    "\n",
    "def save_file(filename, data):\n",
    "    f = open(filename, 'w', encoding='utf8')\n",
    "    print(data, file=f)\n",
    "    f.close\n",
    "\n",
    "\n",
    "def election(s):\n",
    "    text = s.split('\\n')\n",
    "    total = 0\n",
    "    names = {}\n",
    "    for name in text:\n",
    "        names[name] = names.get(name, 0) + 1\n",
    "        total += 1\n",
    "\n",
    "    sorted_names = sorted(names.items(), key=lambda x: -x[1])\n",
    "    if sorted_names[0][1] > total / 2:\n",
    "        return sorted_names[0][0]\n",
    "    else:\n",
    "        return sorted_names[0][0] + '\\n' + sorted_names[1][0]\n",
    "\n",
    "if DEBUG:\n",
    "    for t in tests:\n",
    "        s = read_file('tests/7_19_' + str(t) + '.txt')\n",
    "        print(election(s))\n",
    "else:\n",
    "    s = read_file('input.txt')\n",
    "    save_file('output.txt', election(s))"
   ]
  }
 ],
 "metadata": {
  "kernelspec": {
   "display_name": "Python 3",
   "language": "python",
   "name": "python3"
  },
  "language_info": {
   "codemirror_mode": {
    "name": "ipython",
    "version": 3
   },
   "file_extension": ".py",
   "mimetype": "text/x-python",
   "name": "python",
   "nbconvert_exporter": "python",
   "pygments_lexer": "ipython3",
   "version": "3.6.5"
  }
 },
 "nbformat": 4,
 "nbformat_minor": 2
}
