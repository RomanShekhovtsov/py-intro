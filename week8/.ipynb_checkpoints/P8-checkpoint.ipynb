{
 "cells": [
  {
   "cell_type": "code",
   "execution_count": 26,
   "metadata": {},
   "outputs": [
    {
     "name": "stdout",
     "output_type": "stream",
     "text": [
      "10\n"
     ]
    }
   ],
   "source": [
    "# 8_01 numbers_count\n",
    "tests = [1, 2, 3]\n",
    "\n",
    "# for t in tests:\n",
    "#    print(\n",
    "#        len (\n",
    "#            set(\n",
    "#                open('tests/8_01_' + str(t) + '.txt', 'r', encoding='utf8').readlines().split()\n",
    "#            )\n",
    "#        )\n",
    "#    )\n",
    "\n",
    "print(\n",
    "    len (\n",
    "        set(\n",
    "            open('input.txt', 'r', encoding='utf8').read().split()\n",
    "        )\n",
    "    )\n",
    ")"
   ]
  },
  {
   "cell_type": "code",
   "execution_count": 24,
   "metadata": {},
   "outputs": [
    {
     "name": "stdout",
     "output_type": "stream",
     "text": [
      "19\n",
      "\n"
     ]
    }
   ],
   "source": [
    "# 8_02 words_count\n",
    "tests = [1]\n",
    "\n",
    "# for t in tests:\n",
    "#    print(\n",
    "#        len (\n",
    "#            set(\n",
    "#                open('tests/8_01_' + str(t) + '.txt', 'r', encoding='utf8').readlines().split()\n",
    "#            )\n",
    "#        )\n",
    "#    )\n",
    "\n",
    "print(\n",
    "    len (\n",
    "        set(\n",
    "            open('input.txt', 'r', encoding='utf8').read().split()\n",
    "        )\n",
    "    )\n",
    ")"
   ]
  },
  {
   "cell_type": "code",
   "execution_count": 7,
   "metadata": {},
   "outputs": [
    {
     "name": "stdout",
     "output_type": "stream",
     "text": [
      " 12 3 4 \n",
      "12 3 3\n"
     ]
    }
   ],
   "source": []
  }
 ],
 "metadata": {
  "kernelspec": {
   "display_name": "Python 3",
   "language": "python",
   "name": "python3"
  },
  "language_info": {
   "codemirror_mode": {
    "name": "ipython",
    "version": 3
   },
   "file_extension": ".py",
   "mimetype": "text/x-python",
   "name": "python",
   "nbconvert_exporter": "python",
   "pygments_lexer": "ipython3",
   "version": "3.6.5"
  }
 },
 "nbformat": 4,
 "nbformat_minor": 2
}
