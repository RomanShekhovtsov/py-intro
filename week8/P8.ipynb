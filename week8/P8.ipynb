{
 "cells": [
  {
   "cell_type": "code",
   "execution_count": 26,
   "metadata": {},
   "outputs": [
    {
     "name": "stdout",
     "output_type": "stream",
     "text": [
      "10\n"
     ]
    }
   ],
   "source": [
    "# 8_01 numbers_count\n",
    "tests = [1, 2, 3]\n",
    "\n",
    "print(\n",
    "    len (\n",
    "        set(\n",
    "            open('input.txt', 'r', encoding='utf8').read().split()\n",
    "        )\n",
    "    )\n",
    ")"
   ]
  },
  {
   "cell_type": "code",
   "execution_count": 24,
   "metadata": {},
   "outputs": [
    {
     "name": "stdout",
     "output_type": "stream",
     "text": [
      "19\n",
      "\n"
     ]
    }
   ],
   "source": [
    "# 8_02 words_count\n",
    "tests = [1]\n",
    "\n",
    "print(\n",
    "    len (\n",
    "        set(\n",
    "            open('input.txt', 'r', encoding='utf8').read().split()\n",
    "        )\n",
    "    )\n",
    ")"
   ]
  },
  {
   "cell_type": "code",
   "execution_count": 30,
   "metadata": {},
   "outputs": [
    {
     "name": "stdout",
     "output_type": "stream",
     "text": [
      "-3\n"
     ]
    }
   ],
   "source": [
    "# 8_03 min_odd\n",
    "print(\n",
    "    min (\n",
    "        filter( lambda x: x % 2 != 0,\n",
    "            map( int,\n",
    "                open('input.txt', 'r', encoding='utf8').read().split()\n",
    "               )\n",
    "        )\n",
    "    )\n",
    ")"
   ]
  },
  {
   "cell_type": "code",
   "execution_count": 41,
   "metadata": {},
   "outputs": [
    {
     "name": "stdout",
     "output_type": "stream",
     "text": [
      "False\n"
     ]
    }
   ],
   "source": [
    "# 8_04 zero_or_not\n",
    "print(\n",
    "    len( list(\n",
    "        filter( lambda x: x == 0,\n",
    "            map( int,\n",
    "                open('input.txt', 'r', encoding='utf8').read().split()[1:]\n",
    "               )\n",
    "        )\n",
    "    ) ) > 0\n",
    ")"
   ]
  },
  {
   "cell_type": "code",
   "execution_count": 50,
   "metadata": {},
   "outputs": [
    {
     "name": "stdout",
     "output_type": "stream",
     "text": [
      "0\n"
     ]
    }
   ],
   "source": [
    "# 8_05 mult_of_fifth_power\n",
    "from functools import reduce\n",
    "print(\n",
    "    reduce( lambda x, y: x * y,\n",
    "        map( lambda x: x ** 5,\n",
    "            map( int,\n",
    "                open('input.txt', 'r', encoding='utf8').read().split()\n",
    "               )\n",
    "        )\n",
    "    ) \n",
    ")"
   ]
  },
  {
   "cell_type": "code",
   "execution_count": 200,
   "metadata": {},
   "outputs": [
    {
     "name": "stdout",
     "output_type": "stream",
     "text": [
      "0 0 1 1\n",
      "0 1 0 1\n",
      "0 1 1 0\n"
     ]
    }
   ],
   "source": [
    "# 8_05 xor\n",
    "print(\n",
    "    *map(lambda x: x[0] ^ x[1],\n",
    "        list(\n",
    "            zip(\n",
    "                *map(lambda l: map(int, l),\n",
    "                    map(lambda s: s.split(),\n",
    "                        (input(),input())\n",
    "))))))"
   ]
  }
 ],
 "metadata": {
  "kernelspec": {
   "display_name": "Python 3",
   "language": "python",
   "name": "python3"
  },
  "language_info": {
   "codemirror_mode": {
    "name": "ipython",
    "version": 3
   },
   "file_extension": ".py",
   "mimetype": "text/x-python",
   "name": "python",
   "nbconvert_exporter": "python",
   "pygments_lexer": "ipython3",
   "version": "3.6.5"
  }
 },
 "nbformat": 4,
 "nbformat_minor": 2
}
